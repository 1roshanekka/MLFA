{
  "nbformat": 4,
  "nbformat_minor": 0,
  "metadata": {
    "colab": {
      "provenance": [],
      "collapsed_sections": []
    },
    "kernelspec": {
      "name": "python3",
      "display_name": "Python 3"
    },
    "language_info": {
      "name": "python"
    }
  },
  "cells": [
    {
      "cell_type": "code",
      "execution_count": null,
      "metadata": {
        "id": "PoBJag70nYBx"
      },
      "outputs": [],
      "source": [
        "import numpy as np\n",
        "import pandas as pd       \n",
        "import tensorflow as tf\n",
        "import matplotlib.pyplot as plt\n",
        "from sklearn.preprocessing import LabelBinarizer"
      ]
    },
    {
      "cell_type": "code",
      "source": [
        "from tensorflow.keras.models import Sequential\n",
        "from tensorflow.keras.layers import Flatten\n",
        "from tensorflow.keras.layers import BatchNormalization\n",
        "from tensorflow.keras.layers import Activation\n",
        "from tensorflow.keras.layers import Dense\n",
        "from tensorflow.keras.optimizers import SGD\n",
        "from tensorflow.keras.datasets import mnist"
      ],
      "metadata": {
        "id": "dh69preFnYw0"
      },
      "execution_count": null,
      "outputs": []
    },
    {
      "cell_type": "markdown",
      "source": [
        "**Importing data from MNIST**\n"
      ],
      "metadata": {
        "id": "j4S4lioKnevI"
      }
    },
    {
      "cell_type": "code",
      "source": [
        "from keras.datasets import mnist"
      ],
      "metadata": {
        "id": "f-ILadINnnWW"
      },
      "execution_count": null,
      "outputs": []
    },
    {
      "cell_type": "code",
      "source": [
        "((Xtrain, Ytrain), (Xtest, Ytest)) = mnist.load_data()\n",
        "\n",
        "\n",
        "# (x_train, y_train), (x_test, y_test) = mnist.load_data()"
      ],
      "metadata": {
        "id": "KYLUuzF1nfw8"
      },
      "execution_count": null,
      "outputs": []
    },
    {
      "cell_type": "code",
      "source": [
        "from keras.datasets import mnist\n",
        "\n",
        "# Setup train and test splits\n",
        "(x_train, y_train), (x_test, y_test) = mnist.load_data()\n",
        "print(\"Training data shape: \", x_train.shape) # (60000, 28, 28) -- 60000 images, each 28x28 pixels\n",
        "print(\"Test data shape\", x_test.shape) # (10000, 28, 28) -- 10000 images, each 28x28\n",
        "\n",
        "# Flatten the images\n",
        "image_vector_size = 28*28\n",
        "x_train = x_train.reshape(x_train.shape[0], image_vector_size)\n",
        "x_test = x_test.reshape(x_test.shape[0], image_vector_size)"
      ],
      "metadata": {
        "colab": {
          "base_uri": "https://localhost:8080/"
        },
        "id": "wHO9lDaYpbQ7",
        "outputId": "015519f9-b6ad-4d57-8be5-23dcaf1c4d0a"
      },
      "execution_count": null,
      "outputs": [
        {
          "output_type": "stream",
          "name": "stdout",
          "text": [
            "Training data shape:  (60000, 28, 28)\n",
            "Test data shape (10000, 28, 28)\n"
          ]
        }
      ]
    },
    {
      "cell_type": "code",
      "source": [
        "Xtrain = Xtrain.astype(\"float32\")/255.0\n",
        "Xtest = Xtest.astype(\"float32\")/255.0\n",
        "Ytrain = LabelBinarizer().fit_transform(Ytrain)\n",
        "Ytest = LabelBinarizer().fit_transform(Ytest)"
      ],
      "metadata": {
        "id": "3l0GMyZjn8JA"
      },
      "execution_count": null,
      "outputs": []
    },
    {
      "cell_type": "code",
      "source": [
        "model= Sequential()\n",
        "model.add(Flatten(input_shape = (28,28)))\n",
        "for i in range(10):\n",
        "    model.add(Dense(10))\n",
        "    model.add(Activation(\"sigmoid\"))\n",
        "    model.add(BatchNormalization())\n",
        "model.add(Dense(10,activation=\"sigmoid\"))\n",
        "model.summary()"
      ],
      "metadata": {
        "id": "k78UvjS5n-C_"
      },
      "execution_count": null,
      "outputs": []
    },
    {
      "cell_type": "markdown",
      "source": [
        "Adam Optimization\n"
      ],
      "metadata": {
        "id": "GvaLS25NoL78"
      }
    },
    {
      "cell_type": "code",
      "source": [
        "from keras.optimizers import Adam"
      ],
      "metadata": {
        "id": "8PdRVvAFoKpx"
      },
      "execution_count": null,
      "outputs": []
    },
    {
      "cell_type": "code",
      "source": [
        "batch_size = 64\n",
        "adam = Adam(learning_rate=0.0001)\n",
        "model.compile(loss=\"categorical_crossentropy\", optimizer =adam, metrics=['accuracy'])\n",
        "Hyp1 =model.fit(Xtrain, Ytrain, epochs=10, validation_data =(Xtest, Ytest), batch_size=batch_size)\n"
      ],
      "metadata": {
        "id": "RG_CMJb-oBZ9"
      },
      "execution_count": null,
      "outputs": []
    },
    {
      "cell_type": "code",
      "source": [
        "model.fit(Xtrain,Ytrain, epochs=10,batch_size=batch_size,validation_data=(Xtest,Ytest))"
      ],
      "metadata": {
        "id": "MuS62JvEoSud"
      },
      "execution_count": null,
      "outputs": []
    },
    {
      "cell_type": "code",
      "source": [
        "predictions = model.predict(Xtest)\n",
        "print(predictions[5])\n",
        "print(np.argmax(predictions[5]))\n",
        "plt.figure()\n",
        "plt.imshow(Xtest[5])\n",
        "plt.colorbar()\n",
        "plt.grid(False)\n",
        "plt.show()"
      ],
      "metadata": {
        "colab": {
          "base_uri": "https://localhost:8080/",
          "height": 333
        },
        "id": "RmH9Cl5-oflW",
        "outputId": "61ba4caf-d96d-48ff-96e8-e72dc9b5acda"
      },
      "execution_count": null,
      "outputs": [
        {
          "output_type": "stream",
          "name": "stdout",
          "text": [
            "313/313 [==============================] - 1s 2ms/step\n",
            "[0.0044633  0.9993243  0.8876367  0.9050539  0.13351248 0.01644441\n",
            " 0.57431865 0.8427205  0.91322523 0.45343208]\n",
            "1\n"
          ]
        },
        {
          "output_type": "display_data",
          "data": {
            "text/plain": [
              "<Figure size 432x288 with 2 Axes>"
            ],
            "image/png": "[encoded data removed]"
          },
          "metadata": {
            "needs_background": "light"
          }
        }
      ]
    },
    {
      "cell_type": "markdown",
      "source": [
        "RelU Activation"
      ],
      "metadata": {
        "id": "gwF_941qoiqK"
      }
    },
    {
      "cell_type": "code",
      "source": [
        "import numpy as np\n",
        "import matplotlib.pyplot as plt\n",
        "import tensorflow as tf\n",
        "from tensorflow import keras\n",
        "from sklearn.preprocessing import LabelBinarizer"
      ],
      "metadata": {
        "id": "Xlx_UgylokWQ"
      },
      "execution_count": null,
      "outputs": []
    },
    {
      "cell_type": "code",
      "source": [
        "from tensorflow.keras.models import Sequential\n",
        "from tensorflow.keras.layers import Dense\n",
        "from tensorflow.keras.layers import Flatten\n",
        "from tensorflow.keras.layers import Activation\n",
        "from tensorflow.keras.layers import BatchNormalization\n",
        "from tensorflow.keras.optimizers import SGD"
      ],
      "metadata": {
        "id": "nwQv2e7komOU"
      },
      "execution_count": null,
      "outputs": []
    },
    {
      "cell_type": "code",
      "source": [
        "from keras.datasets import mnist"
      ],
      "metadata": {
        "id": "kVYH9izmot95"
      },
      "execution_count": null,
      "outputs": []
    },
    {
      "cell_type": "markdown",
      "source": [
        "**Importing data from MNIST**\n"
      ],
      "metadata": {
        "id": "WCsTfNbGriTT"
      }
    },
    {
      "cell_type": "code",
      "source": [
        "((Xtrain, Ytrain), (Xtest, Ytest)) = mnist.load_data()\n"
      ],
      "metadata": {
        "id": "Qql0AFC3onzb"
      },
      "execution_count": null,
      "outputs": []
    },
    {
      "cell_type": "code",
      "source": [
        "Xtrain = Xtrain.astype(\"float32\")/255.0\n",
        "Xtest = Xtest.astype(\"float32\")/255.0\n",
        "Ytrain = LabelBinarizer().fit_transform(Ytrain)\n",
        "Ytest = LabelBinarizer().fit_transform(Ytest)"
      ],
      "metadata": {
        "id": "q7-0JPtRovQc"
      },
      "execution_count": null,
      "outputs": []
    },
    {
      "cell_type": "markdown",
      "source": [
        "RelU activation function"
      ],
      "metadata": {
        "id": "nDtRhBRaqoBD"
      }
    },
    {
      "cell_type": "code",
      "source": [
        "model= Sequential()\n",
        "model.add(Flatten(input_shape = (28,28)))\n",
        "for i in range(10):\n",
        "    model.add(Dense(10))\n",
        "    model.add(Activation(\"relu\"))\n",
        "    model.add(BatchNormalization())\n",
        "model.add(Dense(10,activation=\"sigmoid\"))"
      ],
      "metadata": {
        "id": "sY6G0xx7o2Q9"
      },
      "execution_count": null,
      "outputs": []
    },
    {
      "cell_type": "markdown",
      "source": [
        "Adam Optimization"
      ],
      "metadata": {
        "id": "uG3b_DKzqdNK"
      }
    },
    {
      "cell_type": "code",
      "source": [
        "batch_size = 64\n",
        "model.compile(optimizer=\"adam\",loss=\"categorical_crossentropy\",metrics=['accuracy'])\n",
        "model.fit(Xtrain,Ytrain, epochs=10,batch_size=batch_size,validation_data=(Xtest,Ytest))"
      ],
      "metadata": {
        "id": "pDhfrFRro3zA",
        "colab": {
          "base_uri": "https://localhost:8080/"
        },
        "outputId": "33afcef8-da67-47ee-ee90-8d796753a7e4"
      },
      "execution_count": null,
      "outputs": [
        {
          "output_type": "stream",
          "name": "stdout",
          "text": [
            "Epoch 1/10\n",
            "938/938 [==============================] - 10s 7ms/step - loss: 0.4140 - accuracy: 0.8813 - val_loss: 0.3141 - val_accuracy: 0.9073\n",
            "Epoch 2/10\n",
            "938/938 [==============================] - 7s 8ms/step - loss: 0.3478 - accuracy: 0.8985 - val_loss: 0.2791 - val_accuracy: 0.9174\n",
            "Epoch 3/10\n",
            "938/938 [==============================] - 6s 6ms/step - loss: 0.3064 - accuracy: 0.9099 - val_loss: 0.2447 - val_accuracy: 0.9276\n",
            "Epoch 4/10\n",
            "938/938 [==============================] - 6s 6ms/step - loss: 0.2856 - accuracy: 0.9155 - val_loss: 0.2432 - val_accuracy: 0.9292\n",
            "Epoch 5/10\n",
            "938/938 [==============================] - 6s 6ms/step - loss: 0.2659 - accuracy: 0.9212 - val_loss: 0.2428 - val_accuracy: 0.9252\n",
            "Epoch 6/10\n",
            "938/938 [==============================] - 5s 6ms/step - loss: 0.2541 - accuracy: 0.9244 - val_loss: 0.2068 - val_accuracy: 0.9392\n",
            "Epoch 7/10\n",
            "938/938 [==============================] - 7s 8ms/step - loss: 0.2424 - accuracy: 0.9285 - val_loss: 0.2203 - val_accuracy: 0.9332\n",
            "Epoch 8/10\n",
            "580/938 [=================>............] - ETA: 1s - loss: 0.2300 - accuracy: 0.9310"
          ]
        }
      ]
    },
    {
      "cell_type": "code",
      "source": [
        "predictions = model.predict(Xtest)\n",
        "print(predictions[5])\n",
        "print(np.argmax(predictions[5]))\n",
        "plt.figure()\n",
        "plt.imshow(Xtest[5])\n",
        "plt.colorbar()\n",
        "plt.grid(False)\n",
        "plt.show()"
      ],
      "metadata": {
        "id": "dyON8Uxyqauo"
      },
      "execution_count": null,
      "outputs": []
    }
  ]
}